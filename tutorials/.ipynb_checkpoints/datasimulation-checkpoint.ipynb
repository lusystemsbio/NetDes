{
 "cells": [
  {
   "cell_type": "markdown",
   "id": "73742eb4-9c6f-4d91-a45f-63bbfb9180b7",
   "metadata": {},
   "source": [
    "<b style=\"font-size:26px; line-height:2;\">Python scripts to generate a simulated dataset</b>\n",
    "\n",
    "<b style=\"font-size:16px; line-height:2;\">Yukai You </b>\n",
    "\n",
    "<b style=\"font-size:16px; line-height:2;\">2024-10-23 </b>"
   ]
  },
  {
   "cell_type": "code",
   "execution_count": 1,
   "id": "a9a9d431",
   "metadata": {},
   "outputs": [],
   "source": [
    "def modelHill(pars, u):# pars=(lambda, 5*n+1, r0/max(R)) here u=inp_Signal/max(inp_signal), n is Uniform (0,1)take 0.001<x[0]=xbasal/max(inp_signal)<=0.999\n",
    "    #return np.log2((pars[0] + (1-pars[0])/(1+(u/pars[2])**(5*(pars[1])+1)))/(1+pars[0]))\n",
    "    return np.log2((pars[0] + (1-pars[0])/(1+(u/pars[2])**(5*(pars[1])+1))))\n"
   ]
  },
  {
   "cell_type": "code",
   "execution_count": 2,
   "id": "c448055a",
   "metadata": {
    "scrolled": true
   },
   "outputs": [],
   "source": [
    "import warnings\n",
    "warnings.filterwarnings('ignore', category=UserWarning)\n",
    "import pandas as pd\n",
    "import numpy as np\n",
    "from scipy.integrate import odeint\n",
    "import matplotlib.pyplot as plt"
   ]
  },
  {
   "cell_type": "markdown",
   "id": "d918dbcc-d849-423d-ad05-91149723642f",
   "metadata": {},
   "source": [
    "<b style=\"font-size:20px; line-height:2;\">Generate time trajectories</b>"
   ]
  },
  {
   "cell_type": "code",
   "execution_count": 3,
   "id": "4e07361e",
   "metadata": {},
   "outputs": [
    {
     "data": {
      "image/png": "[encoded data removed]",
      "text/plain": [
       "<Figure size 864x504 with 1 Axes>"
      ]
     },
     "metadata": {
      "needs_background": "light"
     },
     "output_type": "display_data"
    },
    {
     "name": "stdout",
     "output_type": "stream",
     "text": [
      "Final x1, x2, and x3: [ 74.69996055   2.55003163 374.98629737]\n"
     ]
    }
   ],
   "source": [
    "# Time points where we want to solve the ODE\n",
    "time = np.linspace(0, 1000, 500)\n",
    "\n",
    "# Initial and final states for x1, x2, x3, x4\n",
    "final_state = [  3.00630819,  97.0006824 , 114.87990578,    25]  # [x1, x2, x3, x4]\n",
    "initial_state = [  3.77538701,  72.67437943, 119.90726332, 150.        ] # [x1, x2, x3, x4]\n",
    "\n",
    "\n",
    "\n",
    "\n",
    "# Define x4_t(t) as a smooth function transitioning from initial to final value\n",
    "def x4_t(t):\n",
    "    T = time[-1]\n",
    "    peak_value = final_state[3]  # Adjust this value as needed\n",
    "    if t <= T / 2:\n",
    "        # Increase from initial_state[3] to peak_value\n",
    "        s = (1 - np.cos(np.pi * t / (T / 2))) / 2\n",
    "        return initial_state[3] + (peak_value - initial_state[3]) * s\n",
    "    else:\n",
    "        # Decrease from peak_value to final_state[3]\n",
    "        s = (1 - np.cos(np.pi * (t - T / 2) / (T / 2))) / 2\n",
    "        return peak_value + (final_state[3] - peak_value) * s\n",
    "\n",
    "# Define the ODE system for x1, x2, and x3\n",
    "def system(state, t, g, lambdas, R, n, k):\n",
    "    x1, x2, x3 = state\n",
    "    x4 = x4_t(t)\n",
    "\n",
    "    # For dx1_dt, x2, x3, and x4 affect x1\n",
    "    dx1_dt = g[0] * np.prod([\n",
    "        lambdas[0][1] + (1 - lambdas[0][1]) / (1 + (x2 / R[0][1]) ** n[0][1]),\n",
    "        lambdas[0][2] + (1 - lambdas[0][2]) / (1 + (x3 / R[0][2]) ** n[0][2]),\n",
    "        lambdas[0][3] + (1 - lambdas[0][3]) / (1 + (x4 / R[0][3]) ** n[0][3]),\n",
    "    ]) - k[0] * x1\n",
    "\n",
    "    # For dx2_dt, x1, x3, and x4 affect x2\n",
    "    dx2_dt = g[1] * np.prod([\n",
    "        lambdas[1][0] + (1 - lambdas[1][0]) / (1 + (x1 / R[1][0]) ** n[1][0]),\n",
    "        lambdas[1][2] + (1 - lambdas[1][2]) / (1 + (x3 / R[1][2]) ** n[1][2]),\n",
    "        lambdas[1][3] + (1 - lambdas[1][3]) / (1 + (x4 / R[1][3]) ** n[1][3]),\n",
    "    ]) - k[1] * x2\n",
    "\n",
    "    # For dx3_dt, x1, x2, and x4 affect x3\n",
    "    dx3_dt = g[2] * np.prod([\n",
    "        lambdas[2][0] + (1 - lambdas[2][0]) / (1 + (x1 / R[2][0]) ** n[2][0]),\n",
    "        lambdas[2][1] + (1 - lambdas[2][1]) / (1 + (x2 / R[2][1]) ** n[2][1]),\n",
    "        lambdas[2][3] + (1 - lambdas[2][3]) / (1 + (x4 / R[2][3]) ** n[2][3]),\n",
    "    ]) - k[2] * x3\n",
    "\n",
    "    return [dx1_dt, dx2_dt, dx3_dt]\n",
    "\n",
    "# Parameters\n",
    "g = [1.5, 17.0, 75.0, 20.0]  # Growth rates for x1, x2, x3, x4 (x4 is forced)\n",
    "k = [0.1, 0.3, 0.2, 0.1]     # Decay rates for x1, x2, x3, x4 (x4 is forced)\n",
    "\n",
    "# Interaction parameters lambdas, R, and n for a 4x4 system\n",
    "lambdas = [\n",
    "    [1,    0.05, 5,    1],   # For x1\n",
    "    [0.04, 1,    1,    4],   # For x2\n",
    "    [1,    0.3,  1,    1],   # For x3\n",
    "    [1,    1,    1,    1]    # For x4 (x4 is forced)\n",
    "]\n",
    "\n",
    "R = [\n",
    "    [1, 10, 10, 1],  # For x1\n",
    "    [4, 1, 1, 120],    # For x2\n",
    "    [1, 30, 1, 1],   # For x3\n",
    "    [1, 1, 1, 1]     # For x4 (x4 is forced)\n",
    "]\n",
    "\n",
    "n = [\n",
    "    [1, 4, 4, 1],  # For x1\n",
    "    [4, 1, 1, 2],  # For x2\n",
    "    [1, 4, 1, 1],  # For x3\n",
    "    [1, 1, 1, 1]   # For x4 (x4 is forced)\n",
    "]\n",
    "\n",
    "# Initial conditions for x1, x2, and x3\n",
    "initial_conditions = [initial_state[0], initial_state[1], initial_state[2]]  # [x1, x2, x3]\n",
    "\n",
    "# Solve the system of ODEs\n",
    "solution = odeint(system, initial_conditions, time, args=(g, lambdas, R, n, k))\n",
    "\n",
    "# Extract x1, x2, and x3 from the solution\n",
    "x1 = solution[:, 0]\n",
    "x2 = solution[:, 1]\n",
    "x3 = solution[:, 2]\n",
    "\n",
    "# Compute x4_t over time\n",
    "x4 = np.array([x4_t(ti) for ti in time])\n",
    "\n",
    "# Plot the results\n",
    "plt.figure(figsize=(12, 7))\n",
    "plt.plot(time, x1, label='x1')\n",
    "plt.plot(time, x2, label='x2')\n",
    "plt.plot(time, x3, label='x3')\n",
    "plt.plot(time, x4, label='x4 (forced)')\n",
    "plt.legend()\n",
    "plt.xlabel('Time')\n",
    "plt.ylabel('State')\n",
    "plt.title('Trajectories of the 4 Genes with x4 Forced from Initial to Final State')\n",
    "plt.show()\n",
    "\n",
    "# Print final states\n",
    "print('Final x1, x2, and x3:', solution[-1])\n"
   ]
  },
  {
   "cell_type": "markdown",
   "id": "120d0b79",
   "metadata": {},
   "source": [
    "<b style=\"font-size:20px; line-height:2;\">Save the data </b>"
   ]
  },
  {
   "cell_type": "code",
   "execution_count": 4,
   "id": "ef1cb387",
   "metadata": {},
   "outputs": [],
   "source": [
    "from sklearn.preprocessing import MinMaxScaler\n",
    "\n",
    "scaler = MinMaxScaler(feature_range=(0, 50))\n",
    "scaled_x1 = scaler.fit_transform(np.array(x1).reshape(-1, 1)).flatten()\n",
    "scaled_x2 = scaler.fit_transform(np.array(x2).reshape(-1, 1)).flatten()\n",
    "scaled_x3 = scaler.fit_transform(np.array(x3).reshape(-1, 1)).flatten()\n",
    "scaled_x4 = scaler.fit_transform(np.array(x4).reshape(-1, 1)).flatten()\n",
    "# Log2 transformation and create DataFrame\n",
    "df = pd.DataFrame({\n",
    "    'gene1': np.log2(scaled_x1 + 1),\n",
    "    'gene2': np.log2(scaled_x2 + 1),\n",
    "    'gene3': np.log2(scaled_x3 + 1),\n",
    "    \"gene4\": np.log2(scaled_x4 + 1),\n",
    "}, index=time).T\n",
    "\n",
    "# Display the DataFrame\n",
    "df\n",
    "\n",
    "# Save the dataframe to CSV\n",
    "df.to_csv('testexpression.csv')"
   ]
  },
  {
   "cell_type": "markdown",
   "id": "8426e02e",
   "metadata": {},
   "source": [
    "<b style=\"font-size:20px; line-height:2;\">Initial network 1<b/>"
   ]
  },
  {
   "cell_type": "code",
   "execution_count": 3,
   "id": "3f21f60a",
   "metadata": {},
   "outputs": [],
   "source": [
    "initialnetwork = pd.DataFrame({\n",
    "    'Source': [\"gene1\",\"gene2\",\"gene2\",\"gene3\",\"gene3\",\"gene4\"],\n",
    "    'Target': [\"gene2\",\"gene1\",\"gene3\",\"gene1\",\"gene2\",\"gene2\"],\n",
    "    'Type': [1,1,1,1,1,1]\n",
    "})\n",
    "\n",
    "initialnetwork.to_csv('Initial_network.csv', index=False)\n",
    "\n"
   ]
  },
  {
   "cell_type": "markdown",
   "id": "f481f378",
   "metadata": {},
   "source": [
    "<b style=\"font-size:20px; line-height:2;\">Initial network 2<b/>"
   ]
  },
  {
   "cell_type": "code",
   "execution_count": 4,
   "id": "1ac248b3",
   "metadata": {},
   "outputs": [],
   "source": [
    "initialnetwork = pd.DataFrame({\n",
    "    'Source': [\"gene1\",\"gene1\",\"gene2\",\"gene2\",\"gene3\",\"gene3\",\"gene4\"],\n",
    "    'Target': [\"gene2\",\"gene3\",\"gene1\",\"gene3\",\"gene1\",\"gene2\",\"gene2\"],\n",
    "    'Type': [1,1,1,1,1,1,1]\n",
    "})\n",
    "\n",
    "initialnetwork.to_csv('Initial_network2.csv', index=False)\n"
   ]
  },
  {
   "cell_type": "markdown",
   "id": "7e95262f",
   "metadata": {},
   "source": [
    "<b style=\"font-size:20px; line-height:2;\">Pseudotime data<b/>"
   ]
  },
  {
   "cell_type": "code",
   "execution_count": 7,
   "id": "e868c0e0",
   "metadata": {},
   "outputs": [],
   "source": [
    "time_scaled = np.linspace(0, 1, len(time))\n",
    "df_new = pd.DataFrame({\n",
    "    'Time': time_scaled,\n",
    "    'gene1': scaled_x1,\n",
    "})\n",
    "\n",
    "# Save the new dataframe to CSV\n",
    "df_new.to_csv('testdatatime.csv', index=False)"
   ]
  }
 ],
 "metadata": {
  "kernelspec": {
   "display_name": "Python 3 (ipykernel)",
   "language": "python",
   "name": "python3"
  },
  "language_info": {
   "codemirror_mode": {
    "name": "ipython",
    "version": 3
   },
   "file_extension": ".py",
   "mimetype": "text/x-python",
   "name": "python",
   "nbconvert_exporter": "python",
   "pygments_lexer": "ipython3",
   "version": "3.9.12"
  }
 },
 "nbformat": 4,
 "nbformat_minor": 5
}
